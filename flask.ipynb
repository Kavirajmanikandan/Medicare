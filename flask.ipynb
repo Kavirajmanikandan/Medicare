{
 "cells": [
  {
   "cell_type": "code",
   "execution_count": 2,
   "id": "69bcfebf-f20a-43c9-83fc-f9804db298e1",
   "metadata": {},
   "outputs": [
    {
     "name": "stdout",
     "output_type": "stream",
     "text": [
      " * Serving Flask app '__main__'\n",
      " * Debug mode: on\n"
     ]
    },
    {
     "name": "stderr",
     "output_type": "stream",
     "text": [
      "WARNING: This is a development server. Do not use it in a production deployment. Use a production WSGI server instead.\n",
      " * Running on http://127.0.0.1:5000\n",
      "Press CTRL+C to quit\n",
      " * Restarting with watchdog (windowsapi)\n"
     ]
    },
    {
     "ename": "SystemExit",
     "evalue": "1",
     "output_type": "error",
     "traceback": [
      "An exception has occurred, use %tb to see the full traceback.\n",
      "\u001b[1;31mSystemExit\u001b[0m\u001b[1;31m:\u001b[0m 1\n"
     ]
    },
    {
     "name": "stderr",
     "output_type": "stream",
     "text": [
      "C:\\Users\\L E N O V O\\jupyternotebook\\Lib\\site-packages\\IPython\\core\\interactiveshell.py:3585: UserWarning: To exit: use 'exit', 'quit', or Ctrl-D.\n",
      "  warn(\"To exit: use 'exit', 'quit', or Ctrl-D.\", stacklevel=1)\n"
     ]
    }
   ],
   "source": [
    "from flask import Flask, request, jsonify, render_template\n",
    "import pandas as pd\n",
    "import numpy as np\n",
    "import pickle\n",
    "\n",
    "# Initialize the Flask app\n",
    "app = Flask(__name__)\n",
    "\n",
    "# Load the model\n",
    "xgb_model = pickle.load(open('medicare.pkl', 'rb'))\n",
    "\n",
    "# Load the data for helper function\n",
    "data = pd.read_csv('medicare.csv')\n",
    "\n",
    "# Encode target labels\n",
    "le = pickle.load(open('medicare.pkl', 'rb'))\n",
    "\n",
    "# Helper function for disease details\n",
    "def helper(dis):\n",
    "    disease_data = data[data['Disease'] == dis]\n",
    "    desc = disease_data['Description'].values[0] if not disease_data['Description'].isna().all() else \"No description available\"\n",
    "    pre = [disease_data['Precaution_1'].values[0], disease_data['Precaution_2'].values[0], disease_data['Precaution_3'].values[0], disease_data['Precaution_4'].values[0]]\n",
    "    pre = [p for p in pre if pd.notna(p)]\n",
    "    med = [disease_data['Medication'].values[0]] if not disease_data['Medication'].isna().all() else []\n",
    "    die = [disease_data['Diet'].values[0]] if not disease_data['Diet'].isna().all() else []\n",
    "    wrkout = [disease_data['workout'].values[0]] if not disease_data['workout'].isna().all() else []\n",
    "    return desc, pre, med, die, wrkout\n",
    "\n",
    "# Prediction function\n",
    "def get_predicted_value(patient_symptoms):\n",
    "    patient_symptoms = [s.lower() for s in patient_symptoms]\n",
    "    input_vector = pd.DataFrame(columns=data.columns[:-1])\n",
    "    input_vector.loc[0] = 0\n",
    "    unknown_symptoms = []\n",
    "    for symptom in patient_symptoms:\n",
    "        if symptom in input_vector.columns:\n",
    "            input_vector[symptom] = 1\n",
    "        else:\n",
    "            unknown_symptoms.append(symptom)\n",
    "    if unknown_symptoms:\n",
    "        return None, unknown_symptoms\n",
    "    input_vector = input_vector.to_numpy()\n",
    "    prediction = xgb_model.predict(input_vector)[0]\n",
    "    decoded_prediction = le.inverse_transform([prediction])[0]\n",
    "    return decoded_prediction, None\n",
    "\n",
    "# Define the home route\n",
    "@app.route('/')\n",
    "def home():\n",
    "    return render_template('index.html')\n",
    "\n",
    "# Define the prediction route\n",
    "@app.route('/predict', methods=['POST'])\n",
    "def predict():\n",
    "    symptoms = request.form.get('symptoms')\n",
    "    user_symptoms = [s.strip() for s in symptoms.split(',')]\n",
    "    predicted_disease, unknown_symptoms = get_predicted_value(user_symptoms)\n",
    "    if predicted_disease:\n",
    "        desc, pre, med, die, wrkout = helper(predicted_disease)\n",
    "        return render_template('result.html', disease=predicted_disease, description=desc, precautions=pre, medications=med, diets=die, workouts=wrkout)\n",
    "    else:\n",
    "        return render_template('error.html', unknown_symptoms=unknown_symptoms)\n",
    "\n",
    "if __name__ == '__main__':\n",
    "    app.run(debug=True)\n"
   ]
  },
  {
   "cell_type": "code",
   "execution_count": 3,
   "id": "090b1e8f-848d-4f84-9884-92794410484e",
   "metadata": {},
   "outputs": [
    {
     "ename": "SyntaxError",
     "evalue": "invalid syntax (125492969.py, line 1)",
     "output_type": "error",
     "traceback": [
      "\u001b[1;36m  Cell \u001b[1;32mIn[3], line 1\u001b[1;36m\u001b[0m\n\u001b[1;33m    <!DOCTYPE html>\u001b[0m\n\u001b[1;37m    ^\u001b[0m\n\u001b[1;31mSyntaxError\u001b[0m\u001b[1;31m:\u001b[0m invalid syntax\n"
     ]
    }
   ],
   "source": [
    "<!DOCTYPE html>\n",
    "<html lang=\"en\">\n",
    "<head>\n",
    "    <meta charset=\"UTF-8\">\n",
    "    <title>Personalized Medicine Recommender</title>\n",
    "</head>\n",
    "<body>\n",
    "    <h1>Enter Symptoms</h1>\n",
    "    <form action=\"/predict\" method=\"post\">\n",
    "        <label for=\"symptoms\">Symptoms (comma separated):</label>\n",
    "        <input type=\"text\" id=\"symptoms\" name=\"symptoms\">\n",
    "        <button type=\"submit\">Predict</button>\n",
    "    </form>\n",
    "</body>\n",
    "</html>\n",
    "\n"
   ]
  },
  {
   "cell_type": "code",
   "execution_count": null,
   "id": "72260426-0460-4e7f-b5bb-477698a245fc",
   "metadata": {},
   "outputs": [],
   "source": []
  }
 ],
 "metadata": {
  "kernelspec": {
   "display_name": "Python 3 (ipykernel)",
   "language": "python",
   "name": "python3"
  },
  "language_info": {
   "codemirror_mode": {
    "name": "ipython",
    "version": 3
   },
   "file_extension": ".py",
   "mimetype": "text/x-python",
   "name": "python",
   "nbconvert_exporter": "python",
   "pygments_lexer": "ipython3",
   "version": "3.12.7"
  }
 },
 "nbformat": 4,
 "nbformat_minor": 5
}
